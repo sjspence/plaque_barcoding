{
 "cells": [
  {
   "cell_type": "markdown",
   "metadata": {},
   "source": [
    "# Plaque Barcoding pipeline\n",
    "Follow along our analysis steps and reproduce our results with the scripts below.  \n",
    "\n",
    "**Dependencies**\n",
    "* epicBarcoder (custom library on github)\n",
    "* pandas\n",
    "* pear\n",
    "* usearch v9.2\n",
    "* sina v1.2.11\n",
    "* fasttree  \n",
    "\n",
    "## Initialization"
   ]
  },
  {
   "cell_type": "code",
   "execution_count": 2,
   "metadata": {
    "collapsed": false
   },
   "outputs": [
    {
     "name": "stderr",
     "output_type": "stream",
     "text": [
      "/home/ubuntu/anaconda2/lib/python2.7/site-packages/matplotlib/__init__.py:878: UserWarning: axes.color_cycle is deprecated and replaced with axes.prop_cycle; please use the latter.\n",
      "  warnings.warn(self.msg_depr % (key, alt_key))\n"
     ]
    }
   ],
   "source": [
    "import os\n",
    "import sys\n",
    "import subprocess\n",
    "import epicBarcoder as eb\n",
    "import numpy as np\n",
    "import pandas as pd\n",
    "import matplotlib\n",
    "import matplotlib.pyplot as plt\n",
    "from matplotlib.backends.backend_pdf import PdfPages\n",
    "import seaborn as sns\n",
    "%matplotlib inline"
   ]
  },
  {
   "cell_type": "code",
   "execution_count": 3,
   "metadata": {
    "collapsed": true
   },
   "outputs": [],
   "source": [
    "#Set up personal computing environment with paths to necessary tools and data directories\n",
    "env = os.environ\n",
    "dataDir = '/home/ubuntu/users/sjspence/170214_OM8/04_jupyter/'\n",
    "pearPath = '/usr/local/bin/pear'\n",
    "usearchPath = '/home/ubuntu/users/sjspence/tools/usearch9.2.64_i86linux32'\n",
    "sinaPath = '/home/ubuntu/bin/sina-1.2.11/sina'\n",
    "fasttreePath = '/home/ubuntu/bin/FastTree_dd'"
   ]
  },
  {
   "cell_type": "code",
   "execution_count": 4,
   "metadata": {
    "collapsed": true
   },
   "outputs": [],
   "source": [
    "#Import and edit mapping file\n",
    "sampIDs = []\n",
    "mapping = {}\n",
    "readCounts = {}\n",
    "with open(dataDir + 'OM8_map.txt', 'r') as inFile:\n",
    "    for line in inFile:\n",
    "        if '#' not in line:\n",
    "            line = line.strip().split('\\t')\n",
    "            mapping[line[1]] = line[0].replace('_','s')\n",
    "            readCounts[line[1]] = 0\n",
    "            sampIDs.append(line[0].replace('_','s'))\n",
    "inFile.close()"
   ]
  },
  {
   "cell_type": "markdown",
   "metadata": {},
   "source": [
    "## Pre-processing"
   ]
  },
  {
   "cell_type": "code",
   "execution_count": null,
   "metadata": {
    "collapsed": true
   },
   "outputs": [],
   "source": [
    "#Join paired-end reads\n",
    "subprocess.call([pearPath, '-f', dataDir + '170214Alm_D17-2046_1_sequence.fastq', \n",
    "                 '-r', dataDir + '170214Alm_D17-2046_2_sequence.fastq', '-o', dataDir + '01_pear'])"
   ]
  },
  {
   "cell_type": "code",
   "execution_count": 16,
   "metadata": {
    "collapsed": false
   },
   "outputs": [
    {
     "name": "stdout",
     "output_type": "stream",
     "text": [
      "71812424\n"
     ]
    }
   ],
   "source": [
    "#Break up file into pieces that usearch can use (5 million lines each)\n",
    "#Run this to completion before running next section\n",
    "inFile = open(dataDir + '01_pear.assembled.fastq', 'r')\n",
    "if not os.path.exists(dataDir + '02_pearSplits/'):\n",
    "    os.makedirs(dataDir + '02_pearSplits/')\n",
    "i = 0\n",
    "j = 1\n",
    "partFile = open(dataDir + '02_pearSplits/pear_' + str(j) + '.fastq', 'w')\n",
    "for line in inFile:\n",
    "    if i >= j*5000000:\n",
    "        partFile.close()\n",
    "        j += 1\n",
    "        partFile = open(dataDir + '02_pearSplits/pear_' + str(j) + '.fastq', 'w')\n",
    "    partFile.write(line)\n",
    "    i += 1\n",
    "partFile.close()\n",
    "inFile.close()\n",
    "print(i)"
   ]
  },
  {
   "cell_type": "code",
   "execution_count": 23,
   "metadata": {
    "collapsed": false
   },
   "outputs": [],
   "source": [
    "#Quality filter with usearch 9 max-error rate\n",
    "def qualFilter(inFile, outFile):\n",
    "    subprocess.call([usearchPath, \"-fastq_filter\", inFile, \"-fastq_minlen\", '100', '-fastq_maxee_rate', '0.01',\n",
    "                     \"-fastqout\", outFile], env=env)\n",
    "for filename in os.listdir(dataDir + '02_pearSplits/'):\n",
    "    qualFilter(dataDir + '02_pearSplits/' + filename, dataDir + '02_pearSplits/' + filename.replace('.fastq','filt.fastq'))"
   ]
  },
  {
   "cell_type": "code",
   "execution_count": 25,
   "metadata": {
    "collapsed": false
   },
   "outputs": [],
   "source": [
    "#Join quality-filtered files back into a single file for processing\n",
    "with open(dataDir + '02_pear_filt.fastq', 'w') as outfile:\n",
    "    for fname in os.listdir(dataDir + '02_pearSplits/'):\n",
    "        if 'filt' in fname:\n",
    "            with open(dataDir + '02_pearSplits/' + fname, 'r') as infile:\n",
    "                for line in infile:\n",
    "                    outfile.write(line)\n",
    "            infile.close()\n",
    "outfile.close()"
   ]
  },
  {
   "cell_type": "code",
   "execution_count": 38,
   "metadata": {
    "collapsed": false
   },
   "outputs": [],
   "source": [
    "#Demultiplex: check for barcodes and relabel sequences\n",
    "#Use mapping file to keep barcoded sequences, prepare fasta file\n",
    "with open(dataDir + '02_pear_filt.fastq', 'r') as inFile:\n",
    "    with open(dataDir + '03_pear_filt.fasta', 'w') as outFile:\n",
    "        i = 0\n",
    "        j = 0\n",
    "        nextSeq = False\n",
    "        for line in inFile:\n",
    "            if nextSeq:\n",
    "                outFile.write(line)\n",
    "                nextSeq = False\n",
    "            if i%4 == 0:\n",
    "                for bc in mapping:\n",
    "                    if bc in line:\n",
    "                        readCounts[bc] += 1\n",
    "                        newLine = line.strip().replace('@','>' + mapping[bc] + '_' + str(j) + ' ')\n",
    "                        newLine = newLine + ' orig_bc=' + bc + ' new_bc=' + bc + ' bc_diffs=0\\n'\n",
    "                        outFile.write(newLine)\n",
    "                        nextSeq = True\n",
    "                        j += 1\n",
    "            i += 1\n",
    "inFile.close()\n",
    "outFile.close()\n",
    "#Summarize read mapping after quality filtering and zero-error barcode matching\n",
    "total = 0\n",
    "summaryFile = open(dataDir + '03_quality_summary.txt', 'w')\n",
    "for s in sampIDs:\n",
    "    for bc in mapping:\n",
    "        if mapping[bc] == s:\n",
    "            summaryFile.write(s + '\\t' + str(readCounts[bc]) + '\\n')\n",
    "            total += readCounts[bc]\n",
    "summaryFile.write('Total\\t' + str(total))\n",
    "summaryFile.close()"
   ]
  },
  {
   "cell_type": "code",
   "execution_count": 3,
   "metadata": {
    "collapsed": false
   },
   "outputs": [],
   "source": [
    "#Primer check and removal, placing droplet barcode into header\n",
    "#NOTE: this takes a while\n",
    "qualReads = eb.importFasta(dataDir + '03_pear_filt.fasta')\n",
    "noPrimerReads = eb.filtBarcodePrimers(qualReads, 20, 'GATCATGACCCATTTGGAGAAGATG', 'GGACTACHVGGGTWTCTAAT')\n",
    "eb.exportFasta(noPrimerReads, dataDir + '04_pear_noPrimers.fasta')\n",
    "print(len(qualReads))\n",
    "print(len(noPrimerReads))\n",
    "print(noPrimerReads[0].header)\n",
    "print(noPrimerReads[0].seq)"
   ]
  },
  {
   "cell_type": "markdown",
   "metadata": {},
   "source": [
    "## Dereplication and denoising"
   ]
  },
  {
   "cell_type": "code",
   "execution_count": 3,
   "metadata": {
    "collapsed": false
   },
   "outputs": [],
   "source": [
    "#Collapse identical reads and maintain the provenance to reduce the uclust file size\n",
    "#uniqueDict maps a unique sequence to a list of read objects which contain it\n",
    "#NOTE: takes a long time, but rerun after notebook closes out\n",
    "#OUTPUT: uniqueDict is a dictionary mapping a unique sequence to a list of read objects which contain it\n",
    "uniqueDict = eb.getUniqueSeqs(dataDir + '04_pear_noPrimers.fasta', dataDir + '05_unique_seqs.fasta')"
   ]
  },
  {
   "cell_type": "code",
   "execution_count": 3,
   "metadata": {
    "collapsed": false
   },
   "outputs": [
    {
     "data": {
      "text/plain": [
       "0"
      ]
     },
     "execution_count": 3,
     "metadata": {},
     "output_type": "execute_result"
    }
   ],
   "source": [
    "#Use the usearch unoise algorithm to create zero radius OTUs (zOTUs), while also discarding chimeras, phiX sequences,\n",
    "#and low complexity DNA\n",
    "#Input: unique sequences collapsed from quality- and primer- filtered data\n",
    "#Output: Denoised file with true biological reads\n",
    "#        Database file with true amplicon reads including chimeras\n",
    "subprocess.call([usearchPath, '-unoise2', dataDir + '05_unique_seqs.fasta', '-fastaout', dataDir + '06_denoised.fa',\n",
    "                 '-otudbout', dataDir + '06_db.fa', '-minampsize', '3'], env=env)"
   ]
  },
  {
   "cell_type": "markdown",
   "metadata": {
    "collapsed": true
   },
   "source": [
    "**Unoise output**  \n",
    "00:02 332Mb   100.0% Reading 05_unique_seqs.fasta  \n",
    "00:04 352Mb   100.0% 3955 amplicons, 1791728 bad (size >= 3)\n",
    "01:55 359Mb   100.0% 354 good, 3601 chimeras\n",
    "\n",
    "46735 corrected amplicon sequences (including chimeras) in 06_db.fa  \n",
    "354 output biological sequences in 06_denoised.fa"
   ]
  },
  {
   "cell_type": "code",
   "execution_count": null,
   "metadata": {
    "collapsed": true
   },
   "outputs": [],
   "source": [
    "#Combine taxonomic information to export final file with droplet barcodes\n",
    "#Added an if statement, since this variable technically gets created earlier in the pipeline\n",
    "if 'uniqueDict' not in globals():\n",
    "    uniqueDict = eb.getUniqueSeqs(dataDir + '04_pear_noPrimers.fasta', dataDir + '05_unique_seqs.fasta')\n",
    "\n",
    "#Take denoised zOTUs, then map back to original reads and rewrite original read file (minus noisy reads) with\n",
    "#zOTU and information in the headers\n",
    "eb.expandDenoised(uniqueDict, dataDir + '06_denoised.fa', dataDir + '08_denoised_all_seqs.fa')"
   ]
  },
  {
   "cell_type": "markdown",
   "metadata": {},
   "source": [
    "**Read loss from unoise2**\n",
    "\n",
    "24490106 04_pear_noPrimers.fasta = 12,245,053 reads prior to unoise2  \n",
    "18228922 08_all_seqs_tax.fa = 9,114,461 reads after unoise2  \n",
    "\n",
    "Approximately 25% read loss."
   ]
  },
  {
   "cell_type": "markdown",
   "metadata": {},
   "source": [
    "## Taxonomic assignment"
   ]
  },
  {
   "cell_type": "code",
   "execution_count": 7,
   "metadata": {
    "collapsed": false
   },
   "outputs": [
    {
     "data": {
      "text/plain": [
       "0"
      ]
     },
     "execution_count": 7,
     "metadata": {},
     "output_type": "execute_result"
    }
   ],
   "source": [
    "#NOTE: ONLY NEED TO RUN THIS ONCE\n",
    "\n",
    "#Format fasta database for input to SINTAX\n",
    "#Maintained HOMD HOT strain ID in header following the taxonomic information\n",
    "#Example SINTAX header structure below:\n",
    "#>AB008314;tax=d:Bacteria,p:Firmicutes,c:Bacilli,o:Lactobacillales,f:Streptococcaceae,g:Streptococcus;\n",
    "outFile = open(dataDir + 'HOMD_16S_rRNA_RefSeq_V14.5.p9_sintax_spike.fasta', 'w')\n",
    "taxDict = {}\n",
    "with open(dataDir + 'HOMD_16S_rRNA_RefSeq_V14.5.qiime_spike.taxonomy', 'r') as t:\n",
    "    for line in t:\n",
    "        line = line.strip().split('\\t')\n",
    "        taxID = line[0]\n",
    "        tax = line[1].strip().replace('__',':')\n",
    "        tax = tax.replace(';',',')\n",
    "        taxDict[taxID] = tax\n",
    "with open(dataDir + 'HOMD_16S_rRNA_RefSeq_V14.5.p9_spike.fasta', 'r') as f:\n",
    "    for line in f:\n",
    "        if '>' in line:\n",
    "            line = line.strip().split(' ')\n",
    "            taxInfo = taxDict[line[0].replace('>','')]\n",
    "            outLine = line[0] + ';tax=' + taxInfo + ';'\n",
    "            for i in line:\n",
    "                if 'HOT' in i:\n",
    "                    outLine += i + ';'\n",
    "            outFile.write(outLine + '\\n')\n",
    "        else:\n",
    "            outFile.write(line)\n",
    "outFile.close()\n",
    "subprocess.call([usearchPath, '-makeudb_sintax', dataDir + 'HOMD_16S_rRNA_RefSeq_V14.5.p9_sintax_spike.fasta', \n",
    "                 '-output', dataDir + 'HOMD_16S_rRNA_RefSeq_V14.5.p9_sintax_spike.udb'], env=env)"
   ]
  },
  {
   "cell_type": "markdown",
   "metadata": {
    "collapsed": true
   },
   "source": [
    "**Database formatting output**  \n",
    "00:00 14Mb   1020 names, tax levels min 7, avg 7.0, max 7  \n",
    "WARNING: 25 taxonomy nodes have >1 parent  \n",
    "00:00 14Mb   Buffers (892 seqs)"
   ]
  },
  {
   "cell_type": "code",
   "execution_count": 4,
   "metadata": {
    "collapsed": false
   },
   "outputs": [
    {
     "data": {
      "text/plain": [
       "0"
      ]
     },
     "execution_count": 4,
     "metadata": {},
     "output_type": "execute_result"
    }
   ],
   "source": [
    "#Run SINTAX to determine denoised read taxonomic information\n",
    "#Default is to run one thread per CPU core, or 10 threads if there are > 10 cores\n",
    "subprocess.call([usearchPath, '-sintax', dataDir + '06_denoised.fa', \n",
    "                 '-db', dataDir + 'HOMD_16S_rRNA_RefSeq_V14.5.p9_sintax_spike.udb', \n",
    "                 '-tabbedout', dataDir + '07_denoised.sintax', \n",
    "                 '-strand', 'plus', '-sintax_cutoff', '0.8', '-threads', '4'], env=env)"
   ]
  },
  {
   "cell_type": "markdown",
   "metadata": {},
   "source": [
    "## Droplet barcode parsing"
   ]
  },
  {
   "cell_type": "code",
   "execution_count": 5,
   "metadata": {
    "collapsed": false
   },
   "outputs": [],
   "source": [
    "#Within each sample, group by barcode; quantify unique barcode pairings\n",
    "#Input: Fasta file with droplet barcode, otu, and taxonomic information in the header\n",
    "#Output: A dictionary where each sampID maps to a dictionary of droplet barcodes:[zOTU1, zOTU1, zOTU2, ...]\n",
    "barcodeDict = eb.createBarcodeDict(dataDir + '08_denoised_all_seqs.fa')\n",
    "\n",
    "#Export summary file of droplet barcodes per sample\n",
    "if not os.path.exists(dataDir + '08_barcoding_log.txt'):\n",
    "    eb.summarizeBarcoding(barcodeDict, sampIDs, dataDir + '08_barcoding_log.txt')\n",
    "\n",
    "#Import sintax taxonomy as a dictionary mapping zOTU IDs to a >80% taxonomic assignment string\n",
    "taxDict = eb.importSintax(dataDir + '07_denoised.sintax', 'final')\n",
    "otuDf = eb.tOTUmap(taxDict)"
   ]
  },
  {
   "cell_type": "code",
   "execution_count": 6,
   "metadata": {
    "collapsed": false
   },
   "outputs": [],
   "source": [
    "#Create pandas dataframe with the relative abundances of different tOTUs calculated from singleton barcode data\n",
    "abundanceDf = eb.tOTU_singletonAbundances(barcodeDict, taxDict)\n",
    "\n",
    "#Create pandas data frame with tOTU pairs in rows (as 'tOTU1__tOTU2') and sample IDs in columns.  Data is the number\n",
    "#of barcodes supporting the pair\n",
    "pairDf = eb.tOTU_quantifyPairs(barcodeDict, taxDict)"
   ]
  },
  {
   "cell_type": "code",
   "execution_count": 6,
   "metadata": {
    "collapsed": false
   },
   "outputs": [
    {
     "name": "stdout",
     "output_type": "stream",
     "text": [
      "Shewanella tOTU: tOtu10\n"
     ]
    }
   ],
   "source": [
    "#Identify shewanella oneidensis tOTU to feed into connection files for significance thresholding\n",
    "shew_tOTU = ''\n",
    "for i, tax in enumerate(otuDf['taxonomy']):\n",
    "    if 'g:Shewanella,s:oneidensis' in tax:\n",
    "        shew_tOTU = otuDf['tOTU'].iloc[i]\n",
    "        break\n",
    "print('Shewanella tOTU: ' + shew_tOTU)"
   ]
  },
  {
   "cell_type": "markdown",
   "metadata": {},
   "source": [
    "## Prep iTol files"
   ]
  },
  {
   "cell_type": "code",
   "execution_count": 4,
   "metadata": {
    "collapsed": false
   },
   "outputs": [],
   "source": [
    "#Make tree for tOTUs in the complete dataset\n",
    "#Choose representative sequence based on abundance in taxonomic group, export fasta of representative seqs\n",
    "eb.tOTU_pickRepSeqs(dataDir + '06_denoised.fa', dataDir + '07_denoised.sintax', dataDir + '09_repSeqs.fa')"
   ]
  },
  {
   "cell_type": "code",
   "execution_count": 5,
   "metadata": {
    "collapsed": false
   },
   "outputs": [
    {
     "data": {
      "text/plain": [
       "0"
      ]
     },
     "execution_count": 5,
     "metadata": {},
     "output_type": "execute_result"
    }
   ],
   "source": [
    "#Align and build tree from tOTUs\n",
    "#Produce alignments with the representative OTU sequences, use the silva aligner against reference\n",
    "inFile = dataDir + '09_repSeqs.fa'\n",
    "outFile = inFile.replace('.fa', '_aligned.fa')\n",
    "database = dataDir + 'SSURef_NR99_128_SILVA_07_09_16_opt.arb'\n",
    "logFile = open(inFile.replace('.fa', '_sinaLog.txt'), 'w')\n",
    "subprocess.call([sinaPath, \"-i\", inFile, \"-o\", outFile, \"--intype\", 'fasta', \"--outtype\",\n",
    "                 'fasta', \"--ptdb\", database], stdout=logFile, env=env)"
   ]
  },
  {
   "cell_type": "code",
   "execution_count": 6,
   "metadata": {
    "collapsed": false
   },
   "outputs": [
    {
     "data": {
      "text/plain": [
       "0"
      ]
     },
     "execution_count": 6,
     "metadata": {},
     "output_type": "execute_result"
    }
   ],
   "source": [
    "#Build the tree\n",
    "inFile = dataDir + '09_repSeqs_aligned.fa'\n",
    "outFile = open(inFile.replace('_aligned.fa', '.tre'), 'w')\n",
    "subprocess.call([fasttreePath, '-nt', '-gtr', inFile], stdout=outFile, env=env)"
   ]
  },
  {
   "cell_type": "code",
   "execution_count": 7,
   "metadata": {
    "collapsed": false
   },
   "outputs": [],
   "source": [
    "#Make iTol abundance files and zip them into an output directory\n",
    "eb.itolSimpleBar(abundanceDf, dataDir + '09_itol_abundances/')"
   ]
  },
  {
   "cell_type": "code",
   "execution_count": 7,
   "metadata": {
    "collapsed": true
   },
   "outputs": [],
   "source": [
    "#Make iTol total connection files\n",
    "eb.itolConnections(pairDf, dataDir + '09_itol_allConnect/', 'all', '#999999')"
   ]
  },
  {
   "cell_type": "code",
   "execution_count": 19,
   "metadata": {
    "collapsed": false
   },
   "outputs": [],
   "source": [
    "#Make iTol significant connection files\n",
    "posDf, negDf = eb.pickSigPairs(pairDf, abundanceDf, dataDir + '08_barcoding_log.txt', 1e-3)\n",
    "eb.itolConnections(posDf, dataDir + '09_itol_pos/', 'pos', '#c14343')\n",
    "eb.itolConnections(negDf, dataDir + '09_itol_neg/', 'neg', '#3e40a0')"
   ]
  },
  {
   "cell_type": "code",
   "execution_count": 15,
   "metadata": {
    "collapsed": false
   },
   "outputs": [],
   "source": [
    "#Make iTol file with taxonomic hover-over info\n",
    "tOTUdict = {}\n",
    "for index in list(otuDf.index.values):\n",
    "    tax = otuDf['taxonomy'][index]\n",
    "    tOTU = otuDf['tOTU'][index]\n",
    "    tOTUdict[tOTU] = tax.replace(',','_')\n",
    "tOTU_column = {'taxonomy': tOTUdict}\n",
    "tOTUdf = pd.DataFrame.from_dict(tOTU_column)\n",
    "eb.itolHover(tOTUdf, dataDir + '09_itol_hover.txt')"
   ]
  },
  {
   "cell_type": "code",
   "execution_count": 17,
   "metadata": {
    "collapsed": false
   },
   "outputs": [],
   "source": [
    "#Summarize shewanella significant pairing\n"
   ]
  },
  {
   "cell_type": "markdown",
   "metadata": {},
   "source": [
    "## Additional figure generation"
   ]
  },
  {
   "cell_type": "code",
   "execution_count": 11,
   "metadata": {
    "collapsed": false
   },
   "outputs": [],
   "source": [
    "#Plot OTU-level replicates vs. singletons\n",
    "scatterDict = {}\n",
    "for s in barcodeDict:\n",
    "    singletons = {}\n",
    "    replicates = {}\n",
    "    for bc in barcodeDict[s]:\n",
    "        zOTUs = barcodeDict[s][bc]\n",
    "        tOTUs = []\n",
    "        for z in zOTUs:\n",
    "            t = otuDf['tOTU'][z]\n",
    "            tOTUs.append(t)\n",
    "        if len(tOTUs) == 1:\n",
    "            if tOTUs[0] in singletons:\n",
    "                singletons[tOTUs[0]] += 1\n",
    "            else:\n",
    "                singletons[tOTUs[0]] = 1\n",
    "        elif len(set(tOTUs)) == 1:\n",
    "            if tOTUs[0] in replicates:\n",
    "                replicates[tOTUs[0]] += 1\n",
    "            else:\n",
    "                replicates[tOTUs[0]] = 1\n",
    "    scatterDict[s + '_s'] = singletons\n",
    "    scatterDict[s + '_r'] = replicates\n",
    "scatterDf = pd.DataFrame.from_dict(scatterDict).fillna(0)"
   ]
  },
  {
   "cell_type": "code",
   "execution_count": 12,
   "metadata": {
    "collapsed": false
   },
   "outputs": [],
   "source": [
    "#Prepare plot with all samples arrayed together\n",
    "n, m = 4, 6\n",
    "\n",
    "with PdfPages('replicate_singleton_subplots.pdf') as pdf:\n",
    "    f, axarr = plt.subplots(n, m, sharex='col', sharey='row', figsize=(15,15))\n",
    "    arr_ij = [(x,y) for x,y in np.ndindex(axarr.shape)]\n",
    "    subplots = [axarr[index] for index in arr_ij]\n",
    "    splot_index = 0\n",
    "    for s in sampIDs:\n",
    "        if (s not in barcodeDict) or (scatterDf[s + '_s'].sum() < 100):\n",
    "            continue\n",
    "        posControls = ['OM8s13', 'OM8s14', 'OM8s15', 'OM8s16', 'OM8s17', 'OM8s18']\n",
    "        if s in posControls:\n",
    "            continue\n",
    "        subplots[splot_index].scatter(scatterDf[s + '_s'], scatterDf[s + '_r'])\n",
    "        subplots[splot_index].set_title(s)\n",
    "        subplots[splot_index].set_xlim\n",
    "        #Set axes to start at zero\n",
    "        #cur_xlim = subplots[splot_index].get_xlim()\n",
    "        #cur_ylim = subplots[splot_index].get_ylim()\n",
    "        #subplots[splot_index].set_xlim(0, cur_xlim[1])\n",
    "        #subplots[splot_index].set_ylim(0, cur_ylim[1])\n",
    "        splot_index += 1\n",
    "    for ax in f.axes:\n",
    "        matplotlib.pyplot.sca(ax)\n",
    "        plt.xticks(rotation=45)\n",
    "    f.text(0.5, 0.05, 'Singletons', ha='center')\n",
    "    f.text(0.05, 0.5, 'Replicates', va='center', rotation='vertical')\n",
    "    pdf.savefig()\n",
    "    plt.close(f)"
   ]
  },
  {
   "cell_type": "code",
   "execution_count": 13,
   "metadata": {
    "collapsed": false
   },
   "outputs": [
    {
     "name": "stderr",
     "output_type": "stream",
     "text": [
      "/home/ubuntu/anaconda2/lib/python2.7/site-packages/matplotlib/__init__.py:892: UserWarning: axes.color_cycle is deprecated and replaced with axes.prop_cycle; please use the latter.\n",
      "  warnings.warn(self.msg_depr % (key, alt_key))\n"
     ]
    },
    {
     "data": {
      "image/png": "[encoded data removed]",
      "text/plain": [
       "<matplotlib.figure.Figure at 0x7f4b9aa5cf10>"
      ]
     },
     "metadata": {},
     "output_type": "display_data"
    },
    {
     "data": {
      "image/png": "[encoded data removed]",
      "text/plain": [
       "<matplotlib.figure.Figure at 0x7f4b9413b990>"
      ]
     },
     "metadata": {},
     "output_type": "display_data"
    },
    {
     "data": {
      "image/png": "[encoded data removed]",
      "text/plain": [
       "<matplotlib.figure.Figure at 0x7f4b9aa55410>"
      ]
     },
     "metadata": {},
     "output_type": "display_data"
    },
    {
     "data": {
      "image/png": "[encoded data removed]",
      "text/plain": [
       "<matplotlib.figure.Figure at 0x7f4b93e12810>"
      ]
     },
     "metadata": {},
     "output_type": "display_data"
    },
    {
     "data": {
      "image/png": "[encoded data removed]",
      "text/plain": [
       "<matplotlib.figure.Figure at 0x7f4b93ca5b50>"
      ]
     },
     "metadata": {},
     "output_type": "display_data"
    },
    {
     "data": {
      "image/png": "[encoded data removed]",
      "text/plain": [
       "<matplotlib.figure.Figure at 0x7f4b93ca5a50>"
      ]
     },
     "metadata": {},
     "output_type": "display_data"
    },
    {
     "data": {
      "image/png": "[encoded data removed]",
      "text/plain": [
       "<matplotlib.figure.Figure at 0x7f4b93bd5710>"
      ]
     },
     "metadata": {},
     "output_type": "display_data"
    },
    {
     "data": {
      "image/png": "[encoded data removed]",
      "text/plain": [
       "<matplotlib.figure.Figure at 0x7f4b93b17550>"
      ]
     },
     "metadata": {},
     "output_type": "display_data"
    },
    {
     "data": {
      "image/png": "[encoded data removed]",
      "text/plain": [
       "<matplotlib.figure.Figure at 0x7f4b93a6d210>"
      ]
     },
     "metadata": {},
     "output_type": "display_data"
    },
    {
     "data": {
      "image/png": "[encoded data removed]",
      "text/plain": [
       "<matplotlib.figure.Figure at 0x7f4b9397aed0>"
      ]
     },
     "metadata": {},
     "output_type": "display_data"
    },
    {
     "data": {
      "image/png": "[encoded data removed]",
      "text/plain": [
       "<matplotlib.figure.Figure at 0x7f4b938d5810>"
      ]
     },
     "metadata": {},
     "output_type": "display_data"
    },
    {
     "data": {
      "image/png": "[encoded data removed]",
      "text/plain": [
       "<matplotlib.figure.Figure at 0x7f4b938034d0>"
      ]
     },
     "metadata": {},
     "output_type": "display_data"
    },
    {
     "data": {
      "image/png": "[encoded data removed]",
      "text/plain": [
       "<matplotlib.figure.Figure at 0x7f4b93bd5750>"
      ]
     },
     "metadata": {},
     "output_type": "display_data"
    },
    {
     "data": {
      "image/png": "[encoded data removed]",
      "text/plain": [
       "<matplotlib.figure.Figure at 0x7f4b9362a090>"
      ]
     },
     "metadata": {},
     "output_type": "display_data"
    },
    {
     "data": {
      "image/png": "[encoded data removed]",
      "text/plain": [
       "<matplotlib.figure.Figure at 0x7f4b935dcdd0>"
      ]
     },
     "metadata": {},
     "output_type": "display_data"
    },
    {
     "data": {
      "image/png": "[encoded data removed]",
      "text/plain": [
       "<matplotlib.figure.Figure at 0x7f4b9343ac90>"
      ]
     },
     "metadata": {},
     "output_type": "display_data"
    },
    {
     "data": {
      "image/png": "[encoded data removed]",
      "text/plain": [
       "<matplotlib.figure.Figure at 0x7f4b9352d610>"
      ]
     },
     "metadata": {},
     "output_type": "display_data"
    },
    {
     "data": {
      "image/png": "[encoded data removed]",
      "text/plain": [
       "<matplotlib.figure.Figure at 0x7f4b933e9050>"
      ]
     },
     "metadata": {},
     "output_type": "display_data"
    },
    {
     "data": {
      "image/png": "[encoded data removed]",
      "text/plain": [
       "<matplotlib.figure.Figure at 0x7f4b93324090>"
      ]
     },
     "metadata": {},
     "output_type": "display_data"
    }
   ],
   "source": [
    "#Prepare plot with samples plotted individually\n",
    "with PdfPages('replicate_singleton_individualPlots.pdf') as pdf_pages:\n",
    "    for s in sampIDs:\n",
    "        if (s not in barcodeDict) or (scatterDf[s + '_s'].sum() < 100):\n",
    "            continue\n",
    "        posControls = ['OM8s13', 'OM8s14', 'OM8s15', 'OM8s16', 'OM8s17', 'OM8s18']\n",
    "        if s in posControls:\n",
    "            continue\n",
    "        current = sns.lmplot(s + '_s', s + '_r', data=scatterDf, fit_reg=False)\n",
    "        current.set(xlabel=s + '_singletons', ylabel=s + '_replicates')\n",
    "        pdf_pages.savefig(current.fig)"
   ]
  },
  {
   "cell_type": "code",
   "execution_count": 14,
   "metadata": {
    "collapsed": false
   },
   "outputs": [],
   "source": [
    "#Plot tOTU singletons, replicates, total, etc.\n",
    "barDf = pd.DataFrame()\n",
    "barIndex = ['samp', 'ct', 'type']\n",
    "posControls = ['OM8s13', 'OM8s14', 'OM8s15', 'OM8s16', 'OM8s17', 'OM8s18']\n",
    "i = 0\n",
    "for s in barcodeDict:\n",
    "    if s in posControls:\n",
    "        continue\n",
    "    totalCt = 0\n",
    "    singleCt = 0\n",
    "    repliCt = 0\n",
    "    multiCt = 0\n",
    "    for bc in barcodeDict[s]:\n",
    "        totalCt += 1\n",
    "        zOTUs = barcodeDict[s][bc]\n",
    "        tOTUs = []\n",
    "        for z in zOTUs:\n",
    "            t = otuDf['tOTU'][z]\n",
    "            tOTUs.append(t)\n",
    "        if len(tOTUs) == 1:\n",
    "            singleCt += 1\n",
    "        elif len(set(tOTUs)) == 1:\n",
    "            repliCt += 1\n",
    "        elif len(set(tOTUs)) > 1:\n",
    "            multiCt += 1\n",
    "    if totalCt < 200:\n",
    "        continue\n",
    "    barDf[str(i)] = pd.Series((s, singleCt, 'singleton'), index=barIndex)\n",
    "    i += 1\n",
    "    barDf[str(i)] = pd.Series((s, repliCt, 'replicate'), index=barIndex)\n",
    "    i += 1\n",
    "    barDf[str(i)] = pd.Series((s, multiCt, 'multiplet'), index=barIndex)\n",
    "    i += 1\n",
    "barDf_t = barDf.transpose()"
   ]
  },
  {
   "cell_type": "code",
   "execution_count": 15,
   "metadata": {
    "collapsed": false
   },
   "outputs": [
    {
     "data": {
      "image/png": "[encoded data removed]",
      "text/plain": [
       "<matplotlib.figure.Figure at 0x7f4b931c3350>"
      ]
     },
     "metadata": {},
     "output_type": "display_data"
    }
   ],
   "source": [
    "newBarDf = barDf_t.pivot('samp', 'type')['ct']\n",
    "ax = newBarDf[newBarDf.columns[::-1]].plot(kind='barh', stacked=True)\n",
    "plt.gca().invert_yaxis()\n",
    "handles, labels = ax.get_legend_handles_labels()\n",
    "ax.legend(handles, labels, loc='upper right')\n",
    "plt.savefig('barcoding.pdf')"
   ]
  },
  {
   "cell_type": "code",
   "execution_count": 66,
   "metadata": {
    "collapsed": false
   },
   "outputs": [],
   "source": [
    "#Get full set of counts for computation below\n",
    "ctDf = pd.DataFrame()\n",
    "ctIndex = ['samp', 'ct', 'type']\n",
    "i = 0\n",
    "for s in barcodeDict:\n",
    "    totalCt = 0\n",
    "    singleCt = 0\n",
    "    repliCt = 0\n",
    "    multiCt = 0\n",
    "    for bc in barcodeDict[s]:\n",
    "        totalCt += 1\n",
    "        zOTUs = barcodeDict[s][bc]\n",
    "        tOTUs = []\n",
    "        for z in zOTUs:\n",
    "            t = otuDf['tOTU'][z]\n",
    "            tOTUs.append(t)\n",
    "        if len(tOTUs) == 1:\n",
    "            singleCt += 1\n",
    "        elif len(set(tOTUs)) == 1:\n",
    "            repliCt += 1\n",
    "        elif len(set(tOTUs)) > 1:\n",
    "            multiCt += 1\n",
    "    if totalCt < 200:\n",
    "        continue\n",
    "    ctDf[str(i)] = pd.Series((s, singleCt, 'singleton'), index=ctIndex)\n",
    "    i += 1\n",
    "    ctDf[str(i)] = pd.Series((s, repliCt, 'replicate'), index=ctIndex)\n",
    "    i += 1\n",
    "    ctDf[str(i)] = pd.Series((s, multiCt, 'multiplet'), index=ctIndex)\n",
    "    i += 1\n",
    "ctDf_t = ctDf.transpose()"
   ]
  },
  {
   "cell_type": "code",
   "execution_count": 75,
   "metadata": {
    "collapsed": false
   },
   "outputs": [
    {
     "data": {
      "image/png": "[encoded data removed]",
      "text/plain": [
       "<matplotlib.figure.Figure at 0x7f290996e0d0>"
      ]
     },
     "metadata": {},
     "output_type": "display_data"
    }
   ],
   "source": [
    "#Positive and negative control abundances\n",
    "newCtDf = ctDf_t.pivot('samp', 'type')['ct']\n",
    "\n",
    "for i in list(otuDf.index.values):\n",
    "    if 's:coli' in otuDf['taxonomy'][i]:\n",
    "        tOTU_coli = otuDf['tOTU'][i]\n",
    "    if 's:subtilis' in otuDf['taxonomy'][i]:\n",
    "        tOTU_sub = otuDf['tOTU'][i]\n",
    "    if 's:oneidensis' in otuDf['taxonomy'][i]:\n",
    "        tOTU_shew = otuDf['tOTU'][i]\n",
    "controlsDf_t = pd.DataFrame()\n",
    "controlsDf_t[tOTU_sub] = abundanceDf.transpose()[tOTU_sub]\n",
    "controlsDf_t[tOTU_coli] = abundanceDf.transpose()[tOTU_coli]\n",
    "controlsDf_t[tOTU_shew] = abundanceDf.transpose()[tOTU_shew]\n",
    "\n",
    "maxSingletonCt = max(newCtDf['singleton'])\n",
    "controlsDf = controlsDf_t.transpose().add(1.0/(2*maxSingletonCt))\n",
    "\n",
    "remove = []\n",
    "for i in controlsDf.columns.tolist():\n",
    "    if i not in list(list(newCtDf.index.values)):\n",
    "        remove.append(i)\n",
    "        controlsDf = controlsDf.drop(i, 1)\n",
    "\n",
    "logDf = controlsDf.apply(np.log)\n",
    "sns.heatmap(logDf, vmax=0, cmap=\"YlGnBu\")\n",
    "plt.savefig('controls.pdf', bbox_inches='tight')"
   ]
  },
  {
   "cell_type": "markdown",
   "metadata": {},
   "source": [
    "## Exploratory work below"
   ]
  },
  {
   "cell_type": "code",
   "execution_count": 25,
   "metadata": {
    "collapsed": false
   },
   "outputs": [
    {
     "name": "stdout",
     "output_type": "stream",
     "text": [
      "OM8s01\t29\n",
      "OM8s02\t5\n",
      "OM8s03\t3\n",
      "OM8s04\t12\n",
      "OM8s05\t26\n",
      "OM8s06\t26\n",
      "OM8s07\t0\n",
      "OM8s08\t27\n",
      "OM8s09\t0\n",
      "OM8s10\t0\n",
      "OM8s11\t1\n",
      "OM8s12\t0\n",
      "OM8s13\t1\n",
      "OM8s14\t2\n",
      "OM8s15\t0\n",
      "OM8s16\t1\n",
      "OM8s17\t2\n",
      "OM8s18\t1\n",
      "OM8s19\t0\n",
      "OM8s20\t0\n",
      "OM8s21\t35\n",
      "OM8s22\t3\n",
      "OM8s23\t15\n",
      "OM8s24\t17\n",
      "OM8s25\t0\n",
      "OM8s26\t2\n",
      "OM8s27\t0\n",
      "OM8s28\t0\n",
      "OM8s29\t0\n",
      "OM8s30\t0\n",
      "OM8s31\t0\n",
      "OM8s32\t0\n",
      "OM8s34\t0\n"
     ]
    }
   ],
   "source": [
    "#total pairs\n",
    "#significant pairs\n",
    "#shew <\n",
    "#shew >\n",
    "\n",
    "for s in posDf:\n",
    "    shewPos = 0\n",
    "    for i in list(posDf[s].index):\n",
    "        iList = i.split('__')\n",
    "        if (iList[0] == 'tOtu10') or (iList[1] == 'tOtu10'):\n",
    "            if posDf[s][i] != 0:\n",
    "                shewPos += 1\n",
    "    print(s + '\\t' + str(shewPos))"
   ]
  },
  {
   "cell_type": "code",
   "execution_count": 11,
   "metadata": {
    "collapsed": false
   },
   "outputs": [],
   "source": [
    "totals = {}\n",
    "for s in barcodeDict:\n",
    "    total = 0\n",
    "    for bc in barcodeDict[s]:\n",
    "        #If there is one unique barcode with only one sequence mapped to it\n",
    "        #(true barcode singleton)\n",
    "        if len(barcodeDict[s][bc]) == 1:\n",
    "            total += 1\n",
    "    totals[s] = total"
   ]
  },
  {
   "cell_type": "code",
   "execution_count": 28,
   "metadata": {
    "collapsed": false,
    "scrolled": true
   },
   "outputs": [
    {
     "name": "stdout",
     "output_type": "stream",
     "text": [
      "OM8s01\t299\t95\t0\t23\n",
      "OM8s02\t344\t52\t12\t5\n",
      "OM8s03\t249\t29\t4\t2\n",
      "OM8s04\t344\t40\t4\t7\n",
      "OM8s05\t592\t140\t0\t13\n",
      "OM8s06\t629\t196\t0\t22\n",
      "OM8s07\t253\t154\t32\t0\n",
      "OM8s08\t415\t186\t0\t22\n",
      "OM8s09\t145\t16\t1\t0\n",
      "OM8s10\t141\t80\t32\t0\n",
      "OM8s11\t675\t122\t27\t1\n",
      "OM8s12\t442\t85\t19\t0\n",
      "OM8s13\t8\t4\t1\t1\n",
      "OM8s14\t3\t1\t0\t1\n",
      "OM8s15\t2\t0\t0\t0\n",
      "OM8s16\t2\t0\t0\t0\n",
      "OM8s17\t4\t2\t1\t1\n",
      "OM8s18\t2\t1\t1\t0\n",
      "OM8s19\t0\t0\t0\t0\n",
      "OM8s20\t0\t0\t0\t0\n",
      "OM8s21\t668\t352\t0\t30\n",
      "OM8s22\t169\t18\t3\t2\n",
      "OM8s23\t298\t39\t2\t7\n",
      "OM8s24\t389\t70\t2\t12\n",
      "OM8s25\t175\t23\t2\t0\n",
      "OM8s26\t213\t60\t2\t1\n",
      "OM8s27\t0\t0\t0\t0\n",
      "OM8s28\t2\t3\t1\t0\n",
      "OM8s29\t0\t0\t0\t0\n",
      "OM8s30\t0\t0\t0\t0\n",
      "OM8s31\t0\t0\t0\t0\n",
      "OM8s32\t0\t0\t0\t0\n",
      "OM8s34\t0\t0\t0\t0\n"
     ]
    }
   ],
   "source": [
    "from scipy.stats import poisson\n",
    "\n",
    "#Calculate poisson probabilities that two bugs would co-occur and filter results based on that\n",
    "#Print tab-delimited format showing total #pairs, #significant pairs, #shew to other, #shew to self\n",
    "#Create iTol file with significant connections\n",
    "cutoff = 1e-7\n",
    "pairDict = pairDf.to_dict()\n",
    "relAbundances = abundanceDf.to_dict()\n",
    "for s in sampIDs:\n",
    "    if s not in pairDict:\n",
    "        continue\n",
    "    i = 0\n",
    "    t = 0\n",
    "    shewYes = 0\n",
    "    shewNo = 0\n",
    "    doubleShew = 0\n",
    "    for otuPair in pairDict[s]:\n",
    "        if pairDict[s][otuPair] != 0.0:\n",
    "            t += 1\n",
    "        otu1 = otuPair.split('__')[0]\n",
    "        otu2 = otuPair.split('__')[1]\n",
    "        if otu1 in relAbundances[s]:\n",
    "            a1 = relAbundances[s][otu1]\n",
    "        else:\n",
    "            a1 = 0.0\n",
    "        if otu2 in relAbundances[s]:\n",
    "            a2 = relAbundances[s][otu2]\n",
    "        else:\n",
    "            a2 = 0.0\n",
    "        x = pairDict[s][otuPair]\n",
    "        mu = a1 * a2 * totals[s]\n",
    "        p = poisson.pmf(x, mu)\n",
    "        if p < cutoff:\n",
    "            i += 1\n",
    "            if ('oneidensis' in tOTUdict[otu1]) and ('oneidensis' in tOTUdict[otu2]):\n",
    "                doubleShew += 1\n",
    "            elif ('oneidensis' in tOTUdict[otu1]) or ('oneidensis' in tOTUdict[otu2]):\n",
    "                if x < mu:\n",
    "                    shewYes += 1\n",
    "                else:\n",
    "                    shewNo += 1\n",
    "    print(s + '\\t' + str(t) + '\\t' + str(i) + '\\t' + str(shewYes) + '\\t' + str(shewNo))"
   ]
  },
  {
   "cell_type": "code",
   "execution_count": 58,
   "metadata": {
    "collapsed": false
   },
   "outputs": [
    {
     "name": "stdout",
     "output_type": "stream",
     "text": [
      "OM8s01\n",
      "k:Bacteria,p:Proteobacteria,c:Gammaproteobacteria,o:Alteromonadales,f:Shewanellaceae,g:Shewanella,s:oneidensis\n",
      "0.110946487711\n",
      "\n",
      "OM8s02\n",
      "k:Bacteria,p:Proteobacteria,c:Gammaproteobacteria,o:Alteromonadales,f:Shewanellaceae,g:Shewanella,s:oneidensis\n",
      "0.420078990954\n",
      "\n",
      "OM8s03\n",
      "k:Bacteria,p:Proteobacteria,c:Gammaproteobacteria,o:Alteromonadales,f:Shewanellaceae,g:Shewanella,s:oneidensis\n",
      "0.233302806306\n",
      "\n",
      "OM8s04\n",
      "k:Bacteria,p:Proteobacteria,c:Gammaproteobacteria,o:Alteromonadales,f:Shewanellaceae,g:Shewanella,s:oneidensis\n",
      "0.342921615202\n",
      "\n",
      "OM8s05\n",
      "k:Bacteria,p:Proteobacteria,c:Gammaproteobacteria,o:Alteromonadales,f:Shewanellaceae,g:Shewanella,s:oneidensis\n",
      "0.581176644822\n",
      "\n",
      "OM8s06\n",
      "k:Bacteria,p:Proteobacteria,c:Gammaproteobacteria,o:Alteromonadales,f:Shewanellaceae,g:Shewanella,s:oneidensis\n",
      "0.536212835388\n",
      "\n",
      "OM8s07\n",
      "k:Bacteria,p:Proteobacteria,c:Gammaproteobacteria,o:Alteromonadales,f:Shewanellaceae,g:Shewanella,s:oneidensis\n",
      "0.222974646957\n",
      "\n",
      "OM8s08\n",
      "k:Bacteria,p:Proteobacteria,c:Gammaproteobacteria,o:Alteromonadales,f:Shewanellaceae,g:Shewanella,s:oneidensis\n",
      "0.27106545961\n",
      "\n",
      "OM8s09\n",
      "k:Bacteria,p:Proteobacteria,c:Gammaproteobacteria,o:Alteromonadales,f:Shewanellaceae,g:Shewanella,s:oneidensis\n",
      "0.0158058771149\n",
      "\n",
      "OM8s10\n",
      "k:Bacteria,p:Proteobacteria,c:Gammaproteobacteria,o:Alteromonadales,f:Shewanellaceae,g:Shewanella,s:oneidensis\n",
      "0.240303785727\n",
      "\n",
      "OM8s11\n",
      "k:Bacteria,p:Proteobacteria,c:Gammaproteobacteria,o:Alteromonadales,f:Shewanellaceae,g:Shewanella,s:oneidensis\n",
      "0.122015794038\n",
      "\n",
      "OM8s12\n",
      "k:Bacteria,p:Proteobacteria,c:Gammaproteobacteria,o:Alteromonadales,f:Shewanellaceae,g:Shewanella,s:oneidensis\n",
      "0.102167182663\n",
      "\n",
      "OM8s13\n",
      "k:Bacteria,p:Proteobacteria,c:Gammaproteobacteria,o:Alteromonadales,f:Shewanellaceae,g:Shewanella,s:oneidensis\n",
      "0.991327016594\n",
      "\n",
      "OM8s14\n",
      "k:Bacteria,p:Proteobacteria,c:Gammaproteobacteria,o:Alteromonadales,f:Shewanellaceae,g:Shewanella,s:oneidensis\n",
      "0.997021118145\n",
      "\n",
      "OM8s15\n",
      "k:Bacteria,p:Proteobacteria,c:Gammaproteobacteria,o:Alteromonadales,f:Shewanellaceae,g:Shewanella,s:oneidensis\n",
      "0.990822881615\n",
      "\n",
      "OM8s16\n",
      "k:Bacteria,p:Proteobacteria,c:Gammaproteobacteria,o:Alteromonadales,f:Shewanellaceae,g:Shewanella,s:oneidensis\n",
      "0.994499927631\n",
      "\n",
      "OM8s17\n",
      "k:Bacteria,p:Proteobacteria,c:Gammaproteobacteria,o:Alteromonadales,f:Shewanellaceae,g:Shewanella,s:oneidensis\n",
      "0.997379126897\n",
      "\n",
      "OM8s18\n",
      "k:Bacteria,p:Proteobacteria,c:Gammaproteobacteria,o:Alteromonadales,f:Shewanellaceae,g:Shewanella,s:oneidensis\n",
      "0.997123158573\n",
      "\n",
      "OM8s19\n",
      "k:Bacteria,p:Proteobacteria,c:Gammaproteobacteria,o:Alteromonadales,f:Shewanellaceae,g:Shewanella,s:oneidensis\n",
      "0.1875\n",
      "\n",
      "OM8s20\n",
      "k:Bacteria,p:Proteobacteria,c:Gammaproteobacteria,o:Alteromonadales,f:Shewanellaceae,g:Shewanella,s:oneidensis\n",
      "0.333333333333\n",
      "\n",
      "OM8s21\n",
      "k:Bacteria,p:Proteobacteria,c:Gammaproteobacteria,o:Alteromonadales,f:Shewanellaceae,g:Shewanella,s:oneidensis\n",
      "0.104605129329\n",
      "\n",
      "OM8s22\n",
      "k:Bacteria,p:Proteobacteria,c:Gammaproteobacteria,o:Alteromonadales,f:Shewanellaceae,g:Shewanella,s:oneidensis\n",
      "0.185478852957\n",
      "\n",
      "OM8s23\n",
      "k:Bacteria,p:Proteobacteria,c:Gammaproteobacteria,o:Alteromonadales,f:Shewanellaceae,g:Shewanella,s:oneidensis\n",
      "0.231646185055\n",
      "\n",
      "OM8s24\n",
      "k:Bacteria,p:Proteobacteria,c:Gammaproteobacteria,o:Alteromonadales,f:Shewanellaceae,g:Shewanella,s:oneidensis\n",
      "0.332459891726\n",
      "\n",
      "OM8s25\n",
      "k:Bacteria,p:Proteobacteria,c:Gammaproteobacteria,o:Alteromonadales,f:Shewanellaceae,g:Shewanella,s:oneidensis\n",
      "0.00834524269009\n",
      "\n",
      "OM8s26\n",
      "k:Bacteria,p:Proteobacteria,c:Gammaproteobacteria,o:Alteromonadales,f:Shewanellaceae,g:Shewanella,s:oneidensis\n",
      "0.0558557622363\n",
      "\n",
      "OM8s27\n",
      "k:Bacteria,p:Proteobacteria,c:Gammaproteobacteria,o:Alteromonadales,f:Shewanellaceae,g:Shewanella,s:oneidensis\n",
      "0.5\n",
      "\n",
      "OM8s28\n",
      "k:Bacteria,p:Proteobacteria,c:Gammaproteobacteria,o:Alteromonadales,f:Shewanellaceae,g:Shewanella,s:oneidensis\n",
      "0.170301783265\n",
      "\n",
      "OM8s29\n",
      "k:Bacteria,p:Proteobacteria,c:Gammaproteobacteria,o:Alteromonadales,f:Shewanellaceae,g:Shewanella,s:oneidensis\n",
      "0.5\n",
      "\n",
      "OM8s30\n",
      "k:Bacteria,p:Proteobacteria,c:Gammaproteobacteria,o:Alteromonadales,f:Shewanellaceae,g:Shewanella,s:oneidensis\n",
      "0.74358974359\n",
      "\n",
      "OM8s31\n",
      "k:Bacteria,p:Proteobacteria,c:Gammaproteobacteria,o:Alteromonadales,f:Shewanellaceae,g:Shewanella,s:oneidensis\n",
      "0.6\n",
      "\n",
      "OM8s32\n",
      "OM8s34\n",
      "k:Bacteria,p:Proteobacteria,c:Gammaproteobacteria,o:Alteromonadales,f:Shewanellaceae,g:Shewanella,s:oneidensis\n",
      "1.0\n",
      "\n"
     ]
    }
   ],
   "source": [
    "#What are the s. oneidensis relative abundances?\n",
    "for s in sampIDs:\n",
    "    if s not in relAbundances:\n",
    "        continue\n",
    "    print(s)\n",
    "    for otu in relAbundances[s]:\n",
    "        if 'oneidensis' in otu:\n",
    "            print(otu + '\\n' + str(relAbundances[s][otu]) + '\\n')"
   ]
  },
  {
   "cell_type": "code",
   "execution_count": 17,
   "metadata": {
    "collapsed": false
   },
   "outputs": [
    {
     "data": {
      "text/plain": [
       "0"
      ]
     },
     "execution_count": 17,
     "metadata": {},
     "output_type": "execute_result"
    }
   ],
   "source": [
    "#Try cluster_fast clustering\n",
    "subprocess.call([usearchPath, '-cluster_fast', dataDir + '06_denoised.fa', '-id', '0.97', '-centroids', \n",
    "                dataDir + '09_otu_clusters.fa', '-uc', dataDir + '09_otu_clusters.uc'], env=env)"
   ]
  },
  {
   "cell_type": "markdown",
   "metadata": {},
   "source": [
    "      Seqs  354  \n",
    "  Clusters  154  \n",
    "  Max size  17  \n",
    "  Avg size  2.3  \n",
    "  Min size  1  \n",
    "Singletons  74, 20.9% of seqs, 48.1% of clusters  \n",
    "   Max mem  83Mb  \n",
    "      Time  1.00s  \n",
    "Throughput  354.0 seqs/sec."
   ]
  },
  {
   "cell_type": "code",
   "execution_count": 18,
   "metadata": {
    "collapsed": true
   },
   "outputs": [],
   "source": [
    "#Import list of read objects from unoise2 denoised file\n",
    "denoised = eb.importFasta(dataDir + '06_denoised.fa')\n",
    "\n",
    "#Import Otu header:[tax probabilities, taxonomy] dictionary from SINTAX output\n",
    "taxDict = eb.importSintax(dataDir + '07_denoised.sintax')\n",
    "\n",
    "#Import hits from 97% fast clustering\n",
    "hits = eb.importClusterFast(dataDir + '09_otu_clusters.uc')"
   ]
  },
  {
   "cell_type": "code",
   "execution_count": 19,
   "metadata": {
    "collapsed": false
   },
   "outputs": [
    {
     "name": "stdout",
     "output_type": "stream",
     "text": [
      "Otu6;uniq=OM8s21_7\n",
      "['k:Bacteria(1.0000),p:Fusobacteria(1.0000),c:Fusobacteriia(1.0000),o:Fusobacteriales(1.0000),f:Fusobacteriaceae(1.0000),g:Fusobacterium(1.0000),s:nucleatum_subsp._polymorphum(0.7700)', 'k:Bacteria,p:Fusobacteria,c:Fusobacteriia,o:Fusobacteriales,f:Fusobacteriaceae,g:Fusobacterium']\n"
     ]
    }
   ],
   "source": [
    "#FIRST TRY TO SEE HOW MUCH SHEWANELLA COLLAPSES BY TAXONOMY\n",
    "i = 0\n",
    "for t in taxDict:\n",
    "    if i == 0:\n",
    "        print(t)\n",
    "        print(taxDict[t])\n",
    "    i += 1"
   ]
  },
  {
   "cell_type": "code",
   "execution_count": 20,
   "metadata": {
    "collapsed": false
   },
   "outputs": [
    {
     "name": "stdout",
     "output_type": "stream",
     "text": [
      "Otu111;uniq=OM8s08_7689 HWI-M04407:1:2105:24185:5342#TCTGTATG/1 orig_bc=TCTGTATG new_bc=TCTGTATG bc_diffs=0 droplet_bc=TTTGCCTTGAGCAGAGAACA;size=1956;\n",
      "6\n"
     ]
    }
   ],
   "source": [
    "#Check number of shewanella seqs in 97% otu clusters\n",
    "i = 0\n",
    "j = 0\n",
    "shewSeqs = []\n",
    "for h in hits:\n",
    "    if j == 0:\n",
    "        print(h)\n",
    "    j += 1\n",
    "    seqID = h.split(' ')[0]\n",
    "    if 'oneidensis' in taxDict[seqID][1]:\n",
    "        i += 1\n",
    "print(i)"
   ]
  },
  {
   "cell_type": "code",
   "execution_count": 22,
   "metadata": {
    "collapsed": false
   },
   "outputs": [
    {
     "name": "stdout",
     "output_type": "stream",
     "text": [
      "6\n"
     ]
    }
   ],
   "source": [
    "shewReads = []\n",
    "for read in denoised:\n",
    "    if (read.header.replace('>','') in hits) and ('Shew' in taxDict[read.seq_id][1]):\n",
    "        shewReads.append(read)\n",
    "print(len(shewReads))\n",
    "eb.exportFasta(shewReads, dataDir + 'multiple_shew_97_otus.fa')"
   ]
  },
  {
   "cell_type": "code",
   "execution_count": 28,
   "metadata": {
    "collapsed": false
   },
   "outputs": [
    {
     "name": "stdout",
     "output_type": "stream",
     "text": [
      "354\n",
      "10\n",
      "5\n",
      "4\n",
      "7\n",
      "88\n",
      "233\n"
     ]
    }
   ],
   "source": [
    "#How many taxonomic indications map all the way to species?  Can I make a taxonomy OTU table?\n",
    "total = 0\n",
    "phylum = 0\n",
    "clas = 0\n",
    "order = 0\n",
    "family = 0\n",
    "genus = 0\n",
    "species = 0\n",
    "for t in taxDict:\n",
    "    total += 1\n",
    "    if 's:' in taxDict[t][1]:\n",
    "        species +=1\n",
    "    elif 'g:' in taxDict[t][1]:\n",
    "        genus += 1\n",
    "    elif 'f:' in taxDict[t][1]:\n",
    "        family += 1\n",
    "    elif 'o:' in taxDict[t][1]:\n",
    "        order += 1\n",
    "    elif 'c:' in taxDict[t][1]:\n",
    "        clas += 1\n",
    "    elif 'p:' in taxDict[t][1]:\n",
    "        phylum += 1\n",
    "print(total)\n",
    "print(phylum)\n",
    "print(clas)\n",
    "print(order)\n",
    "print(family)\n",
    "print(genus)\n",
    "print(species)"
   ]
  }
 ],
 "metadata": {
  "kernelspec": {
   "display_name": "Python3.5",
   "language": "python",
   "name": "python3.5"
  },
  "language_info": {
   "codemirror_mode": {
    "name": "ipython",
    "version": 2
   },
   "file_extension": ".py",
   "mimetype": "text/x-python",
   "name": "python",
   "nbconvert_exporter": "python",
   "pygments_lexer": "ipython2",
   "version": "2.7.12"
  }
 },
 "nbformat": 4,
 "nbformat_minor": 0
}
